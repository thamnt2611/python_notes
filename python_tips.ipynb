{
  "nbformat": 4,
  "nbformat_minor": 0,
  "metadata": {
    "colab": {
      "name": "python_tips",
      "provenance": [],
      "collapsed_sections": [],
      "toc_visible": true
    },
    "kernelspec": {
      "name": "python3",
      "display_name": "Python 3"
    },
    "language_info": {
      "name": "python"
    }
  },
  "cells": [
    {
      "cell_type": "markdown",
      "metadata": {
        "id": "L96O-wPXSnom"
      },
      "source": [
        "#**Function Utilities**\n",
        "\n"
      ]
    },
    {
      "cell_type": "markdown",
      "metadata": {
        "id": "5HK5oijuTMjW"
      },
      "source": [
        "## Lambda\n",
        "Lamda is ideal for callback in which the function is passed as argument to another function "
      ]
    },
    {
      "cell_type": "code",
      "metadata": {
        "id": "dm-BbaedSj4x"
      },
      "source": [
        "def square_fn(x):\n",
        "  return x * x\n",
        "\n",
        "square_ld = lambda x : x * x"
      ],
      "execution_count": null,
      "outputs": []
    },
    {
      "cell_type": "markdown",
      "metadata": {
        "id": "oW1Aey31h1eF"
      },
      "source": [
        "**NOTE**: You shouldn't use lambda to define the function that could be called multiple times"
      ]
    },
    {
      "cell_type": "markdown",
      "metadata": {
        "id": "oUEUlaaEUXH2"
      },
      "source": [
        "## Map\n",
        "map(function, iterater) applies function across every item in iterater, then returns a map object"
      ]
    },
    {
      "cell_type": "code",
      "metadata": {
        "colab": {
          "base_uri": "https://localhost:8080/"
        },
        "id": "HgFx-_I-TGB2",
        "outputId": "58154a14-4a29-444b-b861-6dd76db698aa"
      },
      "source": [
        "# 1st option\n",
        "nums = [1, 2, 3, 4, 5]\n",
        "nums_square = [x * x for x in nums]\n",
        "\n",
        "# 2nd option\n",
        "nums_square_1 = map(square_fn, nums)\n",
        "nums_square_2 = map(square_ld, nums)\n",
        "print(list(nums_square_1))"
      ],
      "execution_count": null,
      "outputs": [
        {
          "output_type": "stream",
          "name": "stdout",
          "text": [
            "[1, 4, 9, 16, 25]\n"
          ]
        }
      ]
    },
    {
      "cell_type": "markdown",
      "metadata": {
        "id": "pRw1MFBuX2RK"
      },
      "source": [
        "map can be alse used to apply function across items in a multiple of iteraters"
      ]
    },
    {
      "cell_type": "code",
      "metadata": {
        "colab": {
          "base_uri": "https://localhost:8080/"
        },
        "id": "dE1YZ_UfWp8p",
        "outputId": "db4f005a-8bed-4226-fcee-106e5fa595fe"
      },
      "source": [
        "a, b = 3, -0.3\n",
        "xs = [2, 3, 4, 5]\n",
        "labels = [6.4, 8.9, 10.9, 15.3]\n",
        "\n",
        "diffs = map(lambda x, y : (x * a + b - y) ** 2, xs, labels)\n",
        "result = sum(diffs) ** 0.5 / len(xs)\n",
        "print(result)"
      ],
      "execution_count": null,
      "outputs": [
        {
          "output_type": "stream",
          "name": "stdout",
          "text": [
            "0.3092329219213246\n"
          ]
        }
      ]
    },
    {
      "cell_type": "markdown",
      "metadata": {
        "id": "_pfTLJtTZS1L"
      },
      "source": [
        "## Filter\n",
        "filter applies a bool function across items in iterator like map, except that it returns a map that only contains items for which function returns True. "
      ]
    },
    {
      "cell_type": "code",
      "metadata": {
        "colab": {
          "base_uri": "https://localhost:8080/"
        },
        "id": "hA55X7VvYH5Z",
        "outputId": "595940c0-76c2-4a1f-ef39-3c23669ff7b2"
      },
      "source": [
        "errors = [0.1, 0.5, 0.6, 0.7]\n",
        "bad_preds = filter(lambda x : x > 0.5, errors)\n",
        "print(list(bad_preds))"
      ],
      "execution_count": null,
      "outputs": [
        {
          "output_type": "stream",
          "name": "stdout",
          "text": [
            "[0.6, 0.7]\n"
          ]
        }
      ]
    },
    {
      "cell_type": "markdown",
      "metadata": {
        "id": "OmfPr_K7a6_j"
      },
      "source": [
        "## Reduce\n",
        "reduce is used to apply an operator aggregatedly across all item. "
      ]
    },
    {
      "cell_type": "code",
      "metadata": {
        "colab": {
          "base_uri": "https://localhost:8080/"
        },
        "id": "1nfsnCkPZQ_J",
        "outputId": "cec42498-73a6-45de-842e-701a40f7fa77"
      },
      "source": [
        "from functools import reduce\n",
        "nums = [2, 3, 4, 3]\n",
        "prod = reduce(lambda x, y : x * y, nums)\n",
        "print(prod)"
      ],
      "execution_count": null,
      "outputs": [
        {
          "output_type": "stream",
          "name": "stdout",
          "text": [
            "72\n"
          ]
        }
      ]
    },
    {
      "cell_type": "markdown",
      "metadata": {
        "id": "7TcMeqI3iG_j"
      },
      "source": [
        "## Functions on integer list"
      ]
    },
    {
      "cell_type": "code",
      "metadata": {
        "colab": {
          "base_uri": "https://localhost:8080/"
        },
        "id": "xOWdVaEiiLqp",
        "outputId": "eb4243fa-d945-4493-a45f-03f637d576e3"
      },
      "source": [
        "#sort\n",
        "a = {'cream': 5, 'cake': 2, 'hotdog': 7}\n",
        "a = sorted(a.items(), key = lambda i : i[1], reverse = True)\n",
        "a"
      ],
      "execution_count": null,
      "outputs": [
        {
          "output_type": "execute_result",
          "data": {
            "text/plain": [
              "[('hotdog', 7), ('cream', 5), ('cake', 2)]"
            ]
          },
          "metadata": {},
          "execution_count": 1
        }
      ]
    },
    {
      "cell_type": "code",
      "metadata": {
        "colab": {
          "base_uri": "https://localhost:8080/"
        },
        "id": "I1AYGzAjiuLS",
        "outputId": "27e7a727-560b-4f79-9fd7-c917c39c684d"
      },
      "source": [
        "#sum\n",
        "a = [2, 4, 5, 3]\n",
        "s = sum(a)\n",
        "s"
      ],
      "execution_count": null,
      "outputs": [
        {
          "output_type": "execute_result",
          "data": {
            "text/plain": [
              "14"
            ]
          },
          "metadata": {},
          "execution_count": 2
        }
      ]
    },
    {
      "cell_type": "markdown",
      "metadata": {
        "id": "a6yV1I00SEqY"
      },
      "source": [
        "#**Ternary Operator**"
      ]
    },
    {
      "cell_type": "markdown",
      "metadata": {
        "id": "v_Ns0MPGTKyl"
      },
      "source": [
        "A shorter way to express condition"
      ]
    },
    {
      "cell_type": "code",
      "metadata": {
        "colab": {
          "base_uri": "https://localhost:8080/",
          "height": 35
        },
        "id": "00-3f3FUSJjL",
        "outputId": "5e37adb5-2593-4c92-da31-12020a8e1609"
      },
      "source": [
        "is_rain = True\n",
        "path = \"wet\" if is_rain else \"dry\"\n",
        "path = (\"wet\", \"dry\")[is_rain]\n",
        "path"
      ],
      "execution_count": null,
      "outputs": [
        {
          "output_type": "execute_result",
          "data": {
            "application/vnd.google.colaboratory.intrinsic+json": {
              "type": "string"
            },
            "text/plain": [
              "'dry'"
            ]
          },
          "metadata": {},
          "execution_count": 4
        }
      ]
    },
    {
      "cell_type": "markdown",
      "metadata": {
        "id": "UwCwTIkpd7La"
      },
      "source": [
        "#**List Manipulation**\n",
        "Include: \n",
        "* unpacking\n",
        "* slicing\n",
        "* replace\n",
        "* flatten\n",
        "* generator\n",
        "* zip\n",
        "\n",
        "\n"
      ]
    },
    {
      "cell_type": "code",
      "metadata": {
        "id": "dFU1eLqueuaP"
      },
      "source": [
        "#unpacking\n",
        "elems = [1, 2, 3, 4]\n",
        "a, b, c, d = elems\n",
        "e, *s_elems, f = elems"
      ],
      "execution_count": null,
      "outputs": []
    },
    {
      "cell_type": "code",
      "metadata": {
        "id": "IjTza-KUe2tg"
      },
      "source": [
        "#slicing to reverse\n",
        "elems = [1, 2, 3, 4]\n",
        "print(elems[::-1])\n",
        "\n",
        "# slicing to delete\n",
        "del elems[::2]"
      ],
      "execution_count": null,
      "outputs": []
    },
    {
      "cell_type": "code",
      "metadata": {
        "id": "IyEvDABLfVj6"
      },
      "source": [
        "#replace\n",
        "elems = range(10)\n",
        "elems[1:2] = [10, 20, 30]\n",
        "#insert\n",
        "elems[1:1] = [10, 20, 30]"
      ],
      "execution_count": null,
      "outputs": []
    },
    {
      "cell_type": "code",
      "metadata": {
        "colab": {
          "base_uri": "https://localhost:8080/"
        },
        "id": "nHUgnEz7f_NO",
        "outputId": "5831441f-e916-4e72-abca-d13b00e8a082"
      },
      "source": [
        "#flatten list using sum\n",
        "list_of_lists = [[1], [2, 3], [4, 5, 6]]\n",
        "sum(list_of_lists, [])\n",
        "\n",
        "#flatten list recursively\n",
        "nested_lists = [[1, 2], [[3, 4], [5, 6], [[7, 8], [9, 10], [[11, [12, 13]]]]]]\n",
        "flatten = lambda x : [y for l in x for y in flatten(l)] if type(x) is list else [x]\n",
        "flatten(nested_lists)"
      ],
      "execution_count": null,
      "outputs": [
        {
          "output_type": "execute_result",
          "data": {
            "text/plain": [
              "[1, 2, 3, 4, 5, 6, 7, 8, 9, 10, 11, 12, 13]"
            ]
          },
          "metadata": {},
          "execution_count": 12
        }
      ]
    },
    {
      "cell_type": "markdown",
      "metadata": {
        "id": "R_hRAuSbse9A"
      },
      "source": [
        "NOTE: use generator instead of list when you need to deal with a large amount of data"
      ]
    },
    {
      "cell_type": "code",
      "metadata": {
        "colab": {
          "base_uri": "https://localhost:8080/"
        },
        "id": "SMyHdJvKqdsa",
        "outputId": "5684f935-0509-40b1-d94f-14ac5ac28e17"
      },
      "source": [
        "#list\n",
        "tokens = ['i', 'want', 'to', 'go', 'to', 'school']\n",
        "def ngrams(tokens, n):\n",
        "  length = len(tokens)\n",
        "  grams = []\n",
        "  for i in range(0, length - n + 1):\n",
        "    grams.append(tokens[i:i+n])\n",
        "  return grams\n",
        "\n",
        "ngrams(tokens, 3)"
      ],
      "execution_count": null,
      "outputs": [
        {
          "output_type": "execute_result",
          "data": {
            "text/plain": [
              "[['i', 'want', 'to'],\n",
              " ['want', 'to', 'go'],\n",
              " ['to', 'go', 'to'],\n",
              " ['go', 'to', 'school']]"
            ]
          },
          "metadata": {},
          "execution_count": 15
        }
      ]
    },
    {
      "cell_type": "code",
      "metadata": {
        "colab": {
          "base_uri": "https://localhost:8080/"
        },
        "id": "Y3MY1-NyufTD",
        "outputId": "93ca0448-87f7-4f66-9857-41c71a9cc2cd"
      },
      "source": [
        "#generator\n",
        "def ngrams(tokens, n):\n",
        "  length = len(tokens)\n",
        "  for i in range(0, length - n + 1):\n",
        "    yield tokens[i:i+n]\n",
        "\n",
        "ngrams_generator = ngrams(tokens, 3)\n",
        "for ngram in ngrams_generator:\n",
        "  print(ngram)"
      ],
      "execution_count": null,
      "outputs": [
        {
          "output_type": "stream",
          "name": "stdout",
          "text": [
            "['i', 'want', 'to']\n",
            "['want', 'to', 'go']\n",
            "['to', 'go', 'to']\n",
            "['go', 'to', 'school']\n"
          ]
        }
      ]
    },
    {
      "cell_type": "code",
      "metadata": {
        "colab": {
          "base_uri": "https://localhost:8080/"
        },
        "id": "9zaxRRKIvbk-",
        "outputId": "f1f59117-c6f4-4411-c755-e31079f084ad"
      },
      "source": [
        "#zip \n",
        "def ngrams(tokens, n):\n",
        "  length = len(tokens)\n",
        "  slices = (tokens[i:length-n+i+1] for i in range(n))\n",
        "  return zip(*slices)\n",
        "\n",
        "ngrams_generator = ngrams(tokens, 3)\n",
        "print(ngrams_generator) # zip objects are generators\n",
        "for ngram in ngrams_generator:\n",
        "    print(ngram)"
      ],
      "execution_count": null,
      "outputs": [
        {
          "output_type": "stream",
          "name": "stdout",
          "text": [
            "<zip object at 0x7f90231ad050>\n",
            "('i', 'want', 'to')\n",
            "('want', 'to', 'go')\n",
            "('to', 'go', 'to')\n",
            "('go', 'to', 'school')\n"
          ]
        }
      ]
    },
    {
      "cell_type": "code",
      "metadata": {
        "colab": {
          "base_uri": "https://localhost:8080/"
        },
        "id": "sTtaLCSJjBUl",
        "outputId": "76d6cf46-3abb-439e-aefe-8b0ea93608cf"
      },
      "source": [
        "# unzip a list\n",
        "student_list = [('tham', 10), ('thu', 20)]\n",
        "student_names, student_age = list(zip(*student_list))\n",
        "print(student_names)\n",
        "print(student_age)"
      ],
      "execution_count": null,
      "outputs": [
        {
          "output_type": "stream",
          "name": "stdout",
          "text": [
            "('tham', 'thu')\n",
            "(10, 20)\n"
          ]
        }
      ]
    },
    {
      "cell_type": "markdown",
      "metadata": {
        "id": "K23cnczGxuUC"
      },
      "source": [
        "**NOTE**: Chú ý cách sử dụng zip; *: unpacking\n",
        "\n",
        "zip(ite_1, ite_2,...): imagine it like transposing the matrix that has ite_s as row vectors. It returns a matrix-like iterator of which items are row vectors and collumn vectors are ite in original matrix"
      ]
    },
    {
      "cell_type": "markdown",
      "metadata": {
        "id": "EjeLp-W6kB7R"
      },
      "source": [
        "# **collections & arraylike**"
      ]
    },
    {
      "cell_type": "markdown",
      "metadata": {
        "id": "T2RPdbsFkuzs"
      },
      "source": [
        "## `namedtuple`"
      ]
    },
    {
      "cell_type": "code",
      "metadata": {
        "colab": {
          "base_uri": "https://localhost:8080/"
        },
        "id": "VOo4SDy1kcWY",
        "outputId": "fa914587-10e2-493f-b329-e02e05ed698b"
      },
      "source": [
        "from collections import namedtuple\n",
        "Billionaire = namedtuple(\"Billionaire\", (\"name\", \"asset\", \"hobby\"))\n",
        "\n",
        "bobby = Billionaire(\"Bobby\", \"1e11 $\", \"earning money\")\n",
        "print(bobby.asset)"
      ],
      "execution_count": null,
      "outputs": [
        {
          "output_type": "stream",
          "name": "stdout",
          "text": [
            "1e11 $\n"
          ]
        }
      ]
    },
    {
      "cell_type": "markdown",
      "metadata": {
        "id": "upS4C1rEnJSN"
      },
      "source": [
        "**NOTE**: *When should tuple be used over list?*\n",
        "\n",
        "The key difference between tuple and list is that lists are mutable objects while tuples are immutable.\n",
        "\n",
        "Because of that, for list object, Python allocate an extra memory block in case it is appended more items. Whereas, Python allocates just an adequate memory block for tuple.\n",
        "\n",
        "-> Therefore, tuples are **more memory efficient than** lists. Furthermore, looking up in tuple is slightly faster than in list.\n",
        "\n",
        "Ref: https://towardsdatascience.com/python-tuples-when-to-use-them-over-lists-75e443f9dcd7\n",
        "\n",
        "The relation between *list and tuple* is similar to relation between *set and frozenset*"
      ]
    },
    {
      "cell_type": "code",
      "metadata": {
        "colab": {
          "base_uri": "https://localhost:8080/"
        },
        "id": "PLh04dU4pzBy",
        "outputId": "7b0a34c4-294b-4507-c9d1-afb5a4f343f8"
      },
      "source": [
        "import sys\n",
        "\n",
        "a_list = [1, 2, 3, 4]\n",
        "a_tuple = (1, 2, 3, 4)\n",
        "\n",
        "print(sys.getsizeof(a_list))\n",
        "print(sys.getsizeof(a_tuple))"
      ],
      "execution_count": null,
      "outputs": [
        {
          "output_type": "stream",
          "name": "stdout",
          "text": [
            "104\n",
            "88\n"
          ]
        }
      ]
    },
    {
      "cell_type": "markdown",
      "metadata": {
        "id": "uuD7MtYQr74b"
      },
      "source": [
        "## define an object as an iterator"
      ]
    },
    {
      "cell_type": "markdown",
      "metadata": {
        "id": "p7J7BnJEtExi"
      },
      "source": [
        "Some available iterable objects in Python are list, set, dictionary, ...\n",
        "\n",
        "You can make a class become an iterator by defining the behaviour for 2 magic methods: `__next__` and `__iter__`\n",
        "\n",
        "The main advantage of iterator is **lazy evaluation**. Lazy evaluation allows you to access dataset while it is being computed.\n",
        "\n",
        "Ref: https://www.freecodecamp.org/news/how-and-why-you-should-use-python-generators-f6fb56650888/"
      ]
    },
    {
      "cell_type": "code",
      "metadata": {
        "id": "Gd1Nm-2SvcIH"
      },
      "source": [
        "def check_prime(number):\n",
        "  for divisor in range(2, int(number**0.5) + 1):\n",
        "    if number % divisor == 0:\n",
        "      return False\n",
        "  \n",
        "  return True\n",
        "\n",
        "class Primes: \n",
        "  def __init__(self, max):\n",
        "    self.max = max\n",
        "    self.number = 1\n",
        "\n",
        "  def __iter__(self):\n",
        "    return self\n",
        "\n",
        "  def __next__(self):\n",
        "    self.number += 1\n",
        "    if self.number >= self.max:\n",
        "      raise StopIteration\n",
        "    elif check_prime(self.number):\n",
        "      return self.number\n",
        "    else:\n",
        "      return self.__next__()\n",
        "  \n",
        "primes = Primes(10000000000000)\n",
        "for x in primes:\n",
        "  print(x)"
      ],
      "execution_count": null,
      "outputs": []
    },
    {
      "cell_type": "markdown",
      "metadata": {
        "id": "b4O5-yph0NDm"
      },
      "source": [
        "#**Classes and Magic methods**"
      ]
    },
    {
      "cell_type": "markdown",
      "metadata": {
        "id": "u-UI8KuP0hFe"
      },
      "source": [
        "## Overview\n",
        "Magic methods are prefixed and suffixed by the double underscore __, so called dunder."
      ]
    },
    {
      "cell_type": "code",
      "metadata": {
        "colab": {
          "base_uri": "https://localhost:8080/"
        },
        "id": "BN2s22en0EHF",
        "outputId": "51d75f16-e2af-436f-efc6-36ea5e002d17"
      },
      "source": [
        "class Node:\n",
        "  __slots__ = ('value', 'left', 'right')\n",
        "  def __init__(self, value, left = None, right = None):\n",
        "    self.value = value\n",
        "    self.left = left\n",
        "    self.right = right\n",
        "  \n",
        "  def __repr__(self):\n",
        "    strings = [f'value: {self.value}']\n",
        "    strings.append(f'left: {self.left.value}' if self.left else 'left: None')\n",
        "    strings.append(f'right: {self.right.value}' if self.right else 'right: None')\n",
        "    return ', '.join(strings)\n",
        "  def __eq__(self, other):\n",
        "    return self.value == other.value\n",
        "\n",
        "  def __lt__(self, other):\n",
        "    return self.value < other.value\n",
        "\n",
        "  def __ge__(self, other):\n",
        "    return self.value >= other.value\n",
        "\n",
        "left = Node(4)\n",
        "root = Node(5, left)\n",
        "print(left == root)\n",
        "print(left < root)\n",
        "print(left >= root)"
      ],
      "execution_count": null,
      "outputs": [
        {
          "output_type": "stream",
          "name": "stdout",
          "text": [
            "False\n",
            "True\n",
            "False\n"
          ]
        }
      ]
    },
    {
      "cell_type": "markdown",
      "metadata": {
        "id": "1aj0LLyBjB63"
      },
      "source": [
        "## `__init__` and `__call__`\n",
        "\n",
        "`__init__`: is used to define constructor for initializing instance\n",
        "\n",
        "`__call__`: is called when the instance is called to do something"
      ]
    },
    {
      "cell_type": "code",
      "metadata": {
        "colab": {
          "base_uri": "https://localhost:8080/"
        },
        "id": "vQuRn1Enj-5i",
        "outputId": "9c6eb8f3-d6d3-48e3-d3fd-23898f44ccc6"
      },
      "source": [
        "import time\n",
        "class Alarm:\n",
        "  def __init__(self, sound):\n",
        "    self._sound = sound\n",
        "\n",
        "  def __call__(self, count):\n",
        "    time.sleep(count)\n",
        "    for i in range(6): \n",
        "      print(self._sound.upper())\n",
        "      time.sleep(1)\n",
        "\n",
        "myalarm = Alarm(\"TING\")\n",
        "myalarm(2)\n",
        "  "
      ],
      "execution_count": null,
      "outputs": [
        {
          "output_type": "stream",
          "name": "stdout",
          "text": [
            "TING\n",
            "TING\n",
            "TING\n",
            "TING\n",
            "TING\n",
            "TING\n"
          ]
        }
      ]
    },
    {
      "cell_type": "markdown",
      "metadata": {
        "id": "mEeX_Tcy5OMm"
      },
      "source": [
        "#**Object Attributes**"
      ]
    },
    {
      "cell_type": "markdown",
      "metadata": {
        "id": "xXxIreSV7gg4"
      },
      "source": [
        "A brief way to declare the attribute in init. \n",
        "\n",
        "locals() function is used to get all variables defined in local namespace. \n",
        "\n",
        "`__dict__`() funtion returns a dictionary of object's attributes"
      ]
    },
    {
      "cell_type": "code",
      "metadata": {
        "colab": {
          "base_uri": "https://localhost:8080/"
        },
        "id": "V9XIPzHR7dG_",
        "outputId": "19af978c-1264-42df-d4ca-a70724e96804"
      },
      "source": [
        "class Family:\n",
        "  def __init__(self, number = 5, location = \"countryside\"):\n",
        "    params = locals()\n",
        "    del params['self']\n",
        "    self.__dict__ = params\n",
        "\n",
        "fam = Family()\n",
        "fam.__dict__"
      ],
      "execution_count": null,
      "outputs": [
        {
          "output_type": "execute_result",
          "data": {
            "text/plain": [
              "{'location': 'countryside', 'number': 5}"
            ]
          },
          "metadata": {},
          "execution_count": 22
        }
      ]
    },
    {
      "cell_type": "markdown",
      "metadata": {
        "id": "qYtHgfhQ89wO"
      },
      "source": [
        "`**kwargs`: for arbitrary list of attributes"
      ]
    },
    {
      "cell_type": "code",
      "metadata": {
        "colab": {
          "base_uri": "https://localhost:8080/"
        },
        "id": "KF8Hc7LE8Mbn",
        "outputId": "d372c5c6-37cf-477f-9c7a-ca0dca6c9605"
      },
      "source": [
        "class Man:\n",
        "  def __init__(self, **kwargs):\n",
        "    self.__dict__ = kwargs\n",
        "\n",
        "man = Man(weight=54, country = \"VN\", job = \"singer\")\n",
        "man.__dict__"
      ],
      "execution_count": null,
      "outputs": [
        {
          "output_type": "execute_result",
          "data": {
            "text/plain": [
              "{'country': 'VN', 'job': 'singer', 'weight': 54}"
            ]
          },
          "metadata": {},
          "execution_count": 23
        }
      ]
    },
    {
      "cell_type": "markdown",
      "metadata": {
        "id": "5hXLJXsc3d01"
      },
      "source": [
        "NOTE: Tìm hiểu thêm về __slot__ : https://stackoverflow.com/questions/472000/usage-of-slots/28059785#28059785 "
      ]
    },
    {
      "cell_type": "markdown",
      "metadata": {
        "id": "cZVN6ODlkK_y"
      },
      "source": [
        "Sometimes, we want to examine for attributes/ methods of objects at runtime. In such case, introspection functions can help use. Some of them are `dir`, `type`, `id`"
      ]
    },
    {
      "cell_type": "code",
      "metadata": {
        "colab": {
          "base_uri": "https://localhost:8080/"
        },
        "id": "9y1hsGZrkH5w",
        "outputId": "37bf242c-c8c7-4774-ddc2-8fe82de6e213"
      },
      "source": [
        "b = {'a': 1}\n",
        "dir(b) # return list of attributes and methods of object\n",
        "type(b) # return type of object\n",
        "id(b) # return id of object"
      ],
      "execution_count": null,
      "outputs": [
        {
          "output_type": "execute_result",
          "data": {
            "text/plain": [
              "dict"
            ]
          },
          "metadata": {},
          "execution_count": 20
        }
      ]
    },
    {
      "cell_type": "markdown",
      "metadata": {
        "id": "zdOsVdJII7QI"
      },
      "source": [
        "Some functions are associated with class attribute:\n",
        "\n",
        "`getattr(self, key)`: similar to `self.key`\n",
        "\n",
        "`setattr(self, key, val)`: similar to `self.key = val`\n",
        "\n",
        "`property(fget, fset, doc)`: returns a property object (aka attribute) that has fget as getter, fset as setter and doc as docstring.\n",
        "\n",
        "`hasattr(self, key)`: check if key is an attribute of object"
      ]
    },
    {
      "cell_type": "markdown",
      "metadata": {
        "id": "_VxVhUFK_H_a"
      },
      "source": [
        "#**Wildcard Import**"
      ]
    },
    {
      "cell_type": "markdown",
      "metadata": {
        "id": "VBNpmkVm_P8G"
      },
      "source": [
        "Suppose in file.py, you import as follow:\n",
        "\n",
        "`from parts import *` \n",
        "\n",
        "And below is your parts.py\n",
        "```\n",
        "  import numpy\n",
        "  import tensorflow\n",
        "  class Encoder:\n",
        "      ...\n",
        "  class Decoder:\n",
        "      ...\n",
        "  class Loss:\n",
        "      ...\n",
        "  def helper(*args, **kwargs):\n",
        "      ...\n",
        "  def utils(*args, **kwargs):\n",
        "      ...\n",
        "```\n",
        "In this case, file.py will import Encoder, Decoder, Loss , helper, utils as well as  numpy and tensorflow.\n",
        "\n",
        "If you want that part will only export Encoder, Decoder, Loss for other sides to use, you need to specify that using `__all__` keyword\n",
        "\n",
        "```\n",
        "__all__ = ['Encoder', 'Decoder', 'Loss']\n",
        "import numpy\n",
        "import tensorflow\n",
        "class Encoder:\n",
        "    ...\n",
        "```\n",
        "\n",
        "I recommend you use it as a habit"
      ]
    },
    {
      "cell_type": "markdown",
      "metadata": {
        "id": "yJvfLTMOBEB6"
      },
      "source": [
        "#**Decorator**"
      ]
    },
    {
      "cell_type": "markdown",
      "metadata": {
        "id": "nT16VSOSXz0D"
      },
      "source": [
        "Decorator is a function usually combined with other function. Consider a decorated function as an activity you want to do(e.g buy cloth, buy food), decorator acts as a necessary procedure go with that activity (e.g. check if you can afford)."
      ]
    },
    {
      "cell_type": "markdown",
      "metadata": {
        "id": "FLrjOxmigCNb"
      },
      "source": [
        "## Defining Decorator"
      ]
    },
    {
      "cell_type": "code",
      "metadata": {
        "id": "lHB__fYp-6rN"
      },
      "source": [
        "# 1st example : time decorator\n",
        "import time\n",
        "def timeit(fn): \n",
        "    # *args and **kwargs are to support positional and named arguments of fn\n",
        "    def get_time(*args, **kwargs): \n",
        "        start = time.time() \n",
        "        output = fn(*args, **kwargs)\n",
        "        print(f\"Time taken in {fn.__name__}: {time.time() - start:.7f}\")\n",
        "        return output  # make sure that the decorator returns the output of fn\n",
        "    return get_time\n",
        "\n",
        "import functools\n",
        "\n",
        "@functools.lru_cache()\n",
        "def fib_helper(n):\n",
        "    if n < 2:\n",
        "        return n\n",
        "    return fib_helper(n - 1) + fib_helper(n - 2)\n",
        "\n",
        "@timeit\n",
        "def fib(n):\n",
        "    \"\"\" fib is a wrapper function so that later we can change its behavior\n",
        "    at the top level without affecting the behavior at every recursion step.\n",
        "    \"\"\"\n",
        "    return fib_helper(n)"
      ],
      "execution_count": null,
      "outputs": []
    },
    {
      "cell_type": "code",
      "metadata": {
        "id": "516T9iH8-uXk",
        "colab": {
          "base_uri": "https://localhost:8080/"
        },
        "outputId": "c08fc543-f03d-474a-c9b6-1a2537ce39a3"
      },
      "source": [
        "# 2nd example : log decorator\n",
        "from functools import wraps\n",
        "def logit(func):\n",
        "  @wraps(func)\n",
        "  def log_decorator(*args, **kwargs):\n",
        "    print(func.__name__, \"was called\")\n",
        "    return func(*args, **kwargs)\n",
        "  return log_decorator\n",
        "\n",
        "@logit\n",
        "def hello(name = \"thu\"):\n",
        "  \"\"\"\n",
        "    chao bang tieng viet\n",
        "  \"\"\"\n",
        "  print(\"chao\", name)\n",
        "\n",
        "hello(name= \"heo\")\n",
        "\n",
        "# see change if you remove @wraps\n",
        "print(hello.__name__)\n",
        "print(hello.__doc__)"
      ],
      "execution_count": null,
      "outputs": [
        {
          "output_type": "stream",
          "name": "stdout",
          "text": [
            "hello was called\n",
            "chao heo\n",
            "hello\n",
            "\n",
            "    chao bang tieng viet\n",
            "  \n"
          ]
        }
      ]
    },
    {
      "cell_type": "code",
      "metadata": {
        "id": "QkIDV1kmcnMb"
      },
      "source": [
        "# 3rd example: add argument to decorator\n",
        "def logit(logfile = 'out.log'):\n",
        "  def log_decorator(func):\n",
        "    @wraps(func)\n",
        "    def log_wrapper(*args, **kwargs):\n",
        "      log_string = func.__name__ + \" was called\"\n",
        "      print()\n",
        "      # Open logfile\n",
        "      with open(logfile, 'a') as f:\n",
        "        f.write(log_string + '\\n')\n",
        "      return func\n",
        "    return log_wrapper\n",
        "  return log_decorator\n",
        "\n",
        "@logit(logfile='func2.log')\n",
        "def myfunc2():\n",
        "    pass"
      ],
      "execution_count": null,
      "outputs": []
    },
    {
      "cell_type": "markdown",
      "metadata": {
        "id": "sEvqIQE4ekxN"
      },
      "source": [
        "Decorator can also be a class, in additional to a function"
      ]
    },
    {
      "cell_type": "markdown",
      "metadata": {
        "id": "LA6rNDGagFXb"
      },
      "source": [
        "## Built-in Decorators\n",
        "\n",
        "`@property`: define getter\n",
        "\n",
        "`@<name_attribute>.setter`: define setter\n",
        "\n",
        "`@staticmethod`: static method\n"
      ]
    },
    {
      "cell_type": "markdown",
      "metadata": {
        "id": "7vE6M9vTB-O2"
      },
      "source": [
        "#**Caching**"
      ]
    },
    {
      "cell_type": "markdown",
      "metadata": {
        "id": "yIBmihswCDaz"
      },
      "source": [
        "NOTE: Tìm hiểu thêm về cache: https://docs.python.org/3/library/functools.html\n",
        "\n",
        "Memoization is a form of cache.\n",
        "\n",
        "store all previous results of function by their set of arguments."
      ]
    },
    {
      "cell_type": "code",
      "metadata": {
        "id": "pqgoS1DiCgam"
      },
      "source": [
        "import functools\n",
        "@functools.lru_cache()\n",
        "def fib_helper(n):\n",
        "    if n < 2:\n",
        "        return n\n",
        "    return fib_helper(n - 1) + fib_helper(n - 2)\n",
        "\n",
        "@timeit\n",
        "def fib(n):\n",
        "    \"\"\" fib is a wrapper function so that later we can change its behavior\n",
        "    at the top level without affecting the behavior at every recursion step.\n",
        "    \"\"\"\n",
        "    return fib_helper(n)"
      ],
      "execution_count": null,
      "outputs": []
    },
    {
      "cell_type": "code",
      "metadata": {
        "colab": {
          "base_uri": "https://localhost:8080/"
        },
        "id": "hDT5S8yB-wbK",
        "outputId": "93041ea8-a5c2-48d2-cc9c-990130db0929"
      },
      "source": [
        "fib(50)\n",
        "fib(50)"
      ],
      "execution_count": null,
      "outputs": [
        {
          "output_type": "stream",
          "name": "stdout",
          "text": [
            "Time taken in fib: 0.0000601\n",
            "Time taken in fib: 0.0000026\n"
          ]
        },
        {
          "output_type": "execute_result",
          "data": {
            "text/plain": [
              "12586269025"
            ]
          },
          "metadata": {},
          "execution_count": 31
        }
      ]
    },
    {
      "cell_type": "code",
      "metadata": {
        "colab": {
          "base_uri": "https://localhost:8080/"
        },
        "id": "riVAQzgiBsJJ",
        "outputId": "e8955f68-97c7-4ac3-e630-e789843ce7ef"
      },
      "source": [
        "fib(60)"
      ],
      "execution_count": null,
      "outputs": [
        {
          "output_type": "stream",
          "name": "stdout",
          "text": [
            "Time taken in fib: 0.0000041\n"
          ]
        },
        {
          "output_type": "execute_result",
          "data": {
            "text/plain": [
              "1548008755920"
            ]
          },
          "metadata": {},
          "execution_count": 36
        }
      ]
    },
    {
      "cell_type": "markdown",
      "metadata": {
        "id": "3rA3UdVqIPhY"
      },
      "source": [
        "You can define cache decorator by yourself (learn from sumy).\n",
        "\n",
        "NOTE: It is commonplace in text processing to **cache the attribute** of an object. It helps avoid computing multiple times."
      ]
    },
    {
      "cell_type": "code",
      "metadata": {
        "colab": {
          "base_uri": "https://localhost:8080/"
        },
        "id": "KB7tniQsREq8",
        "outputId": "d762f683-e85c-4c65-acc2-99f5c44651b2"
      },
      "source": [
        "stopwords = [\"is\", \"the\"]\n",
        "\n",
        "def cached_property(getter):\n",
        "  @wraps(getter)\n",
        "  def decorator(self):\n",
        "    key = \"_cached_property_\" + getter.__name__\n",
        "    if not hasattr(self, key):\n",
        "      setattr(self, key, getter(self))\n",
        "\n",
        "    return getattr(self, key)\n",
        "  return property(decorator)\n",
        "\n",
        "class Document:\n",
        "  def __init__(self, words):\n",
        "    self._words = words\n",
        "\n",
        "  @cached_property\n",
        "  def words(self):\n",
        "    print(\"Hello\")\n",
        "    return tuple(w for w in self._words if w not in stopwords)\n",
        "\n",
        "text = \"a b c d e e f d f d d\" * 100\n",
        "doc = Document(text.split())\n",
        "print(doc.words)\n",
        "print(doc.words)\n",
        "print(doc.words)"
      ],
      "execution_count": null,
      "outputs": [
        {
          "output_type": "stream",
          "name": "stdout",
          "text": [
            "Hello\n",
            "('a', 'b', 'c', 'd', 'e', 'e', 'f', 'd', 'f', 'd', 'da', 'b', 'c', 'd', 'e', 'e', 'f', 'd', 'f', 'd', 'da', 'b', 'c', 'd', 'e', 'e', 'f', 'd', 'f', 'd', 'da', 'b', 'c', 'd', 'e', 'e', 'f', 'd', 'f', 'd', 'da', 'b', 'c', 'd', 'e', 'e', 'f', 'd', 'f', 'd', 'da', 'b', 'c', 'd', 'e', 'e', 'f', 'd', 'f', 'd', 'da', 'b', 'c', 'd', 'e', 'e', 'f', 'd', 'f', 'd', 'da', 'b', 'c', 'd', 'e', 'e', 'f', 'd', 'f', 'd', 'da', 'b', 'c', 'd', 'e', 'e', 'f', 'd', 'f', 'd', 'da', 'b', 'c', 'd', 'e', 'e', 'f', 'd', 'f', 'd', 'da', 'b', 'c', 'd', 'e', 'e', 'f', 'd', 'f', 'd', 'da', 'b', 'c', 'd', 'e', 'e', 'f', 'd', 'f', 'd', 'da', 'b', 'c', 'd', 'e', 'e', 'f', 'd', 'f', 'd', 'da', 'b', 'c', 'd', 'e', 'e', 'f', 'd', 'f', 'd', 'da', 'b', 'c', 'd', 'e', 'e', 'f', 'd', 'f', 'd', 'da', 'b', 'c', 'd', 'e', 'e', 'f', 'd', 'f', 'd', 'da', 'b', 'c', 'd', 'e', 'e', 'f', 'd', 'f', 'd', 'da', 'b', 'c', 'd', 'e', 'e', 'f', 'd', 'f', 'd', 'da', 'b', 'c', 'd', 'e', 'e', 'f', 'd', 'f', 'd', 'da', 'b', 'c', 'd', 'e', 'e', 'f', 'd', 'f', 'd', 'da', 'b', 'c', 'd', 'e', 'e', 'f', 'd', 'f', 'd', 'da', 'b', 'c', 'd', 'e', 'e', 'f', 'd', 'f', 'd', 'da', 'b', 'c', 'd', 'e', 'e', 'f', 'd', 'f', 'd', 'da', 'b', 'c', 'd', 'e', 'e', 'f', 'd', 'f', 'd', 'da', 'b', 'c', 'd', 'e', 'e', 'f', 'd', 'f', 'd', 'da', 'b', 'c', 'd', 'e', 'e', 'f', 'd', 'f', 'd', 'da', 'b', 'c', 'd', 'e', 'e', 'f', 'd', 'f', 'd', 'da', 'b', 'c', 'd', 'e', 'e', 'f', 'd', 'f', 'd', 'da', 'b', 'c', 'd', 'e', 'e', 'f', 'd', 'f', 'd', 'da', 'b', 'c', 'd', 'e', 'e', 'f', 'd', 'f', 'd', 'da', 'b', 'c', 'd', 'e', 'e', 'f', 'd', 'f', 'd', 'da', 'b', 'c', 'd', 'e', 'e', 'f', 'd', 'f', 'd', 'da', 'b', 'c', 'd', 'e', 'e', 'f', 'd', 'f', 'd', 'da', 'b', 'c', 'd', 'e', 'e', 'f', 'd', 'f', 'd', 'da', 'b', 'c', 'd', 'e', 'e', 'f', 'd', 'f', 'd', 'da', 'b', 'c', 'd', 'e', 'e', 'f', 'd', 'f', 'd', 'da', 'b', 'c', 'd', 'e', 'e', 'f', 'd', 'f', 'd', 'da', 'b', 'c', 'd', 'e', 'e', 'f', 'd', 'f', 'd', 'da', 'b', 'c', 'd', 'e', 'e', 'f', 'd', 'f', 'd', 'da', 'b', 'c', 'd', 'e', 'e', 'f', 'd', 'f', 'd', 'da', 'b', 'c', 'd', 'e', 'e', 'f', 'd', 'f', 'd', 'da', 'b', 'c', 'd', 'e', 'e', 'f', 'd', 'f', 'd', 'da', 'b', 'c', 'd', 'e', 'e', 'f', 'd', 'f', 'd', 'da', 'b', 'c', 'd', 'e', 'e', 'f', 'd', 'f', 'd', 'da', 'b', 'c', 'd', 'e', 'e', 'f', 'd', 'f', 'd', 'da', 'b', 'c', 'd', 'e', 'e', 'f', 'd', 'f', 'd', 'da', 'b', 'c', 'd', 'e', 'e', 'f', 'd', 'f', 'd', 'da', 'b', 'c', 'd', 'e', 'e', 'f', 'd', 'f', 'd', 'da', 'b', 'c', 'd', 'e', 'e', 'f', 'd', 'f', 'd', 'da', 'b', 'c', 'd', 'e', 'e', 'f', 'd', 'f', 'd', 'da', 'b', 'c', 'd', 'e', 'e', 'f', 'd', 'f', 'd', 'da', 'b', 'c', 'd', 'e', 'e', 'f', 'd', 'f', 'd', 'da', 'b', 'c', 'd', 'e', 'e', 'f', 'd', 'f', 'd', 'da', 'b', 'c', 'd', 'e', 'e', 'f', 'd', 'f', 'd', 'da', 'b', 'c', 'd', 'e', 'e', 'f', 'd', 'f', 'd', 'da', 'b', 'c', 'd', 'e', 'e', 'f', 'd', 'f', 'd', 'da', 'b', 'c', 'd', 'e', 'e', 'f', 'd', 'f', 'd', 'da', 'b', 'c', 'd', 'e', 'e', 'f', 'd', 'f', 'd', 'da', 'b', 'c', 'd', 'e', 'e', 'f', 'd', 'f', 'd', 'da', 'b', 'c', 'd', 'e', 'e', 'f', 'd', 'f', 'd', 'da', 'b', 'c', 'd', 'e', 'e', 'f', 'd', 'f', 'd', 'da', 'b', 'c', 'd', 'e', 'e', 'f', 'd', 'f', 'd', 'da', 'b', 'c', 'd', 'e', 'e', 'f', 'd', 'f', 'd', 'da', 'b', 'c', 'd', 'e', 'e', 'f', 'd', 'f', 'd', 'da', 'b', 'c', 'd', 'e', 'e', 'f', 'd', 'f', 'd', 'da', 'b', 'c', 'd', 'e', 'e', 'f', 'd', 'f', 'd', 'da', 'b', 'c', 'd', 'e', 'e', 'f', 'd', 'f', 'd', 'da', 'b', 'c', 'd', 'e', 'e', 'f', 'd', 'f', 'd', 'da', 'b', 'c', 'd', 'e', 'e', 'f', 'd', 'f', 'd', 'da', 'b', 'c', 'd', 'e', 'e', 'f', 'd', 'f', 'd', 'da', 'b', 'c', 'd', 'e', 'e', 'f', 'd', 'f', 'd', 'da', 'b', 'c', 'd', 'e', 'e', 'f', 'd', 'f', 'd', 'da', 'b', 'c', 'd', 'e', 'e', 'f', 'd', 'f', 'd', 'da', 'b', 'c', 'd', 'e', 'e', 'f', 'd', 'f', 'd', 'da', 'b', 'c', 'd', 'e', 'e', 'f', 'd', 'f', 'd', 'da', 'b', 'c', 'd', 'e', 'e', 'f', 'd', 'f', 'd', 'da', 'b', 'c', 'd', 'e', 'e', 'f', 'd', 'f', 'd', 'da', 'b', 'c', 'd', 'e', 'e', 'f', 'd', 'f', 'd', 'da', 'b', 'c', 'd', 'e', 'e', 'f', 'd', 'f', 'd', 'da', 'b', 'c', 'd', 'e', 'e', 'f', 'd', 'f', 'd', 'da', 'b', 'c', 'd', 'e', 'e', 'f', 'd', 'f', 'd', 'da', 'b', 'c', 'd', 'e', 'e', 'f', 'd', 'f', 'd', 'da', 'b', 'c', 'd', 'e', 'e', 'f', 'd', 'f', 'd', 'da', 'b', 'c', 'd', 'e', 'e', 'f', 'd', 'f', 'd', 'da', 'b', 'c', 'd', 'e', 'e', 'f', 'd', 'f', 'd', 'da', 'b', 'c', 'd', 'e', 'e', 'f', 'd', 'f', 'd', 'da', 'b', 'c', 'd', 'e', 'e', 'f', 'd', 'f', 'd', 'da', 'b', 'c', 'd', 'e', 'e', 'f', 'd', 'f', 'd', 'da', 'b', 'c', 'd', 'e', 'e', 'f', 'd', 'f', 'd', 'da', 'b', 'c', 'd', 'e', 'e', 'f', 'd', 'f', 'd', 'da', 'b', 'c', 'd', 'e', 'e', 'f', 'd', 'f', 'd', 'da', 'b', 'c', 'd', 'e', 'e', 'f', 'd', 'f', 'd', 'da', 'b', 'c', 'd', 'e', 'e', 'f', 'd', 'f', 'd', 'da', 'b', 'c', 'd', 'e', 'e', 'f', 'd', 'f', 'd', 'da', 'b', 'c', 'd', 'e', 'e', 'f', 'd', 'f', 'd', 'da', 'b', 'c', 'd', 'e', 'e', 'f', 'd', 'f', 'd', 'da', 'b', 'c', 'd', 'e', 'e', 'f', 'd', 'f', 'd', 'da', 'b', 'c', 'd', 'e', 'e', 'f', 'd', 'f', 'd', 'da', 'b', 'c', 'd', 'e', 'e', 'f', 'd', 'f', 'd', 'da', 'b', 'c', 'd', 'e', 'e', 'f', 'd', 'f', 'd', 'd')\n",
            "('a', 'b', 'c', 'd', 'e', 'e', 'f', 'd', 'f', 'd', 'da', 'b', 'c', 'd', 'e', 'e', 'f', 'd', 'f', 'd', 'da', 'b', 'c', 'd', 'e', 'e', 'f', 'd', 'f', 'd', 'da', 'b', 'c', 'd', 'e', 'e', 'f', 'd', 'f', 'd', 'da', 'b', 'c', 'd', 'e', 'e', 'f', 'd', 'f', 'd', 'da', 'b', 'c', 'd', 'e', 'e', 'f', 'd', 'f', 'd', 'da', 'b', 'c', 'd', 'e', 'e', 'f', 'd', 'f', 'd', 'da', 'b', 'c', 'd', 'e', 'e', 'f', 'd', 'f', 'd', 'da', 'b', 'c', 'd', 'e', 'e', 'f', 'd', 'f', 'd', 'da', 'b', 'c', 'd', 'e', 'e', 'f', 'd', 'f', 'd', 'da', 'b', 'c', 'd', 'e', 'e', 'f', 'd', 'f', 'd', 'da', 'b', 'c', 'd', 'e', 'e', 'f', 'd', 'f', 'd', 'da', 'b', 'c', 'd', 'e', 'e', 'f', 'd', 'f', 'd', 'da', 'b', 'c', 'd', 'e', 'e', 'f', 'd', 'f', 'd', 'da', 'b', 'c', 'd', 'e', 'e', 'f', 'd', 'f', 'd', 'da', 'b', 'c', 'd', 'e', 'e', 'f', 'd', 'f', 'd', 'da', 'b', 'c', 'd', 'e', 'e', 'f', 'd', 'f', 'd', 'da', 'b', 'c', 'd', 'e', 'e', 'f', 'd', 'f', 'd', 'da', 'b', 'c', 'd', 'e', 'e', 'f', 'd', 'f', 'd', 'da', 'b', 'c', 'd', 'e', 'e', 'f', 'd', 'f', 'd', 'da', 'b', 'c', 'd', 'e', 'e', 'f', 'd', 'f', 'd', 'da', 'b', 'c', 'd', 'e', 'e', 'f', 'd', 'f', 'd', 'da', 'b', 'c', 'd', 'e', 'e', 'f', 'd', 'f', 'd', 'da', 'b', 'c', 'd', 'e', 'e', 'f', 'd', 'f', 'd', 'da', 'b', 'c', 'd', 'e', 'e', 'f', 'd', 'f', 'd', 'da', 'b', 'c', 'd', 'e', 'e', 'f', 'd', 'f', 'd', 'da', 'b', 'c', 'd', 'e', 'e', 'f', 'd', 'f', 'd', 'da', 'b', 'c', 'd', 'e', 'e', 'f', 'd', 'f', 'd', 'da', 'b', 'c', 'd', 'e', 'e', 'f', 'd', 'f', 'd', 'da', 'b', 'c', 'd', 'e', 'e', 'f', 'd', 'f', 'd', 'da', 'b', 'c', 'd', 'e', 'e', 'f', 'd', 'f', 'd', 'da', 'b', 'c', 'd', 'e', 'e', 'f', 'd', 'f', 'd', 'da', 'b', 'c', 'd', 'e', 'e', 'f', 'd', 'f', 'd', 'da', 'b', 'c', 'd', 'e', 'e', 'f', 'd', 'f', 'd', 'da', 'b', 'c', 'd', 'e', 'e', 'f', 'd', 'f', 'd', 'da', 'b', 'c', 'd', 'e', 'e', 'f', 'd', 'f', 'd', 'da', 'b', 'c', 'd', 'e', 'e', 'f', 'd', 'f', 'd', 'da', 'b', 'c', 'd', 'e', 'e', 'f', 'd', 'f', 'd', 'da', 'b', 'c', 'd', 'e', 'e', 'f', 'd', 'f', 'd', 'da', 'b', 'c', 'd', 'e', 'e', 'f', 'd', 'f', 'd', 'da', 'b', 'c', 'd', 'e', 'e', 'f', 'd', 'f', 'd', 'da', 'b', 'c', 'd', 'e', 'e', 'f', 'd', 'f', 'd', 'da', 'b', 'c', 'd', 'e', 'e', 'f', 'd', 'f', 'd', 'da', 'b', 'c', 'd', 'e', 'e', 'f', 'd', 'f', 'd', 'da', 'b', 'c', 'd', 'e', 'e', 'f', 'd', 'f', 'd', 'da', 'b', 'c', 'd', 'e', 'e', 'f', 'd', 'f', 'd', 'da', 'b', 'c', 'd', 'e', 'e', 'f', 'd', 'f', 'd', 'da', 'b', 'c', 'd', 'e', 'e', 'f', 'd', 'f', 'd', 'da', 'b', 'c', 'd', 'e', 'e', 'f', 'd', 'f', 'd', 'da', 'b', 'c', 'd', 'e', 'e', 'f', 'd', 'f', 'd', 'da', 'b', 'c', 'd', 'e', 'e', 'f', 'd', 'f', 'd', 'da', 'b', 'c', 'd', 'e', 'e', 'f', 'd', 'f', 'd', 'da', 'b', 'c', 'd', 'e', 'e', 'f', 'd', 'f', 'd', 'da', 'b', 'c', 'd', 'e', 'e', 'f', 'd', 'f', 'd', 'da', 'b', 'c', 'd', 'e', 'e', 'f', 'd', 'f', 'd', 'da', 'b', 'c', 'd', 'e', 'e', 'f', 'd', 'f', 'd', 'da', 'b', 'c', 'd', 'e', 'e', 'f', 'd', 'f', 'd', 'da', 'b', 'c', 'd', 'e', 'e', 'f', 'd', 'f', 'd', 'da', 'b', 'c', 'd', 'e', 'e', 'f', 'd', 'f', 'd', 'da', 'b', 'c', 'd', 'e', 'e', 'f', 'd', 'f', 'd', 'da', 'b', 'c', 'd', 'e', 'e', 'f', 'd', 'f', 'd', 'da', 'b', 'c', 'd', 'e', 'e', 'f', 'd', 'f', 'd', 'da', 'b', 'c', 'd', 'e', 'e', 'f', 'd', 'f', 'd', 'da', 'b', 'c', 'd', 'e', 'e', 'f', 'd', 'f', 'd', 'da', 'b', 'c', 'd', 'e', 'e', 'f', 'd', 'f', 'd', 'da', 'b', 'c', 'd', 'e', 'e', 'f', 'd', 'f', 'd', 'da', 'b', 'c', 'd', 'e', 'e', 'f', 'd', 'f', 'd', 'da', 'b', 'c', 'd', 'e', 'e', 'f', 'd', 'f', 'd', 'da', 'b', 'c', 'd', 'e', 'e', 'f', 'd', 'f', 'd', 'da', 'b', 'c', 'd', 'e', 'e', 'f', 'd', 'f', 'd', 'da', 'b', 'c', 'd', 'e', 'e', 'f', 'd', 'f', 'd', 'da', 'b', 'c', 'd', 'e', 'e', 'f', 'd', 'f', 'd', 'da', 'b', 'c', 'd', 'e', 'e', 'f', 'd', 'f', 'd', 'da', 'b', 'c', 'd', 'e', 'e', 'f', 'd', 'f', 'd', 'da', 'b', 'c', 'd', 'e', 'e', 'f', 'd', 'f', 'd', 'da', 'b', 'c', 'd', 'e', 'e', 'f', 'd', 'f', 'd', 'da', 'b', 'c', 'd', 'e', 'e', 'f', 'd', 'f', 'd', 'da', 'b', 'c', 'd', 'e', 'e', 'f', 'd', 'f', 'd', 'da', 'b', 'c', 'd', 'e', 'e', 'f', 'd', 'f', 'd', 'da', 'b', 'c', 'd', 'e', 'e', 'f', 'd', 'f', 'd', 'da', 'b', 'c', 'd', 'e', 'e', 'f', 'd', 'f', 'd', 'da', 'b', 'c', 'd', 'e', 'e', 'f', 'd', 'f', 'd', 'da', 'b', 'c', 'd', 'e', 'e', 'f', 'd', 'f', 'd', 'da', 'b', 'c', 'd', 'e', 'e', 'f', 'd', 'f', 'd', 'da', 'b', 'c', 'd', 'e', 'e', 'f', 'd', 'f', 'd', 'da', 'b', 'c', 'd', 'e', 'e', 'f', 'd', 'f', 'd', 'da', 'b', 'c', 'd', 'e', 'e', 'f', 'd', 'f', 'd', 'da', 'b', 'c', 'd', 'e', 'e', 'f', 'd', 'f', 'd', 'da', 'b', 'c', 'd', 'e', 'e', 'f', 'd', 'f', 'd', 'da', 'b', 'c', 'd', 'e', 'e', 'f', 'd', 'f', 'd', 'da', 'b', 'c', 'd', 'e', 'e', 'f', 'd', 'f', 'd', 'da', 'b', 'c', 'd', 'e', 'e', 'f', 'd', 'f', 'd', 'da', 'b', 'c', 'd', 'e', 'e', 'f', 'd', 'f', 'd', 'da', 'b', 'c', 'd', 'e', 'e', 'f', 'd', 'f', 'd', 'da', 'b', 'c', 'd', 'e', 'e', 'f', 'd', 'f', 'd', 'da', 'b', 'c', 'd', 'e', 'e', 'f', 'd', 'f', 'd', 'da', 'b', 'c', 'd', 'e', 'e', 'f', 'd', 'f', 'd', 'da', 'b', 'c', 'd', 'e', 'e', 'f', 'd', 'f', 'd', 'da', 'b', 'c', 'd', 'e', 'e', 'f', 'd', 'f', 'd', 'da', 'b', 'c', 'd', 'e', 'e', 'f', 'd', 'f', 'd', 'd')\n",
            "('a', 'b', 'c', 'd', 'e', 'e', 'f', 'd', 'f', 'd', 'da', 'b', 'c', 'd', 'e', 'e', 'f', 'd', 'f', 'd', 'da', 'b', 'c', 'd', 'e', 'e', 'f', 'd', 'f', 'd', 'da', 'b', 'c', 'd', 'e', 'e', 'f', 'd', 'f', 'd', 'da', 'b', 'c', 'd', 'e', 'e', 'f', 'd', 'f', 'd', 'da', 'b', 'c', 'd', 'e', 'e', 'f', 'd', 'f', 'd', 'da', 'b', 'c', 'd', 'e', 'e', 'f', 'd', 'f', 'd', 'da', 'b', 'c', 'd', 'e', 'e', 'f', 'd', 'f', 'd', 'da', 'b', 'c', 'd', 'e', 'e', 'f', 'd', 'f', 'd', 'da', 'b', 'c', 'd', 'e', 'e', 'f', 'd', 'f', 'd', 'da', 'b', 'c', 'd', 'e', 'e', 'f', 'd', 'f', 'd', 'da', 'b', 'c', 'd', 'e', 'e', 'f', 'd', 'f', 'd', 'da', 'b', 'c', 'd', 'e', 'e', 'f', 'd', 'f', 'd', 'da', 'b', 'c', 'd', 'e', 'e', 'f', 'd', 'f', 'd', 'da', 'b', 'c', 'd', 'e', 'e', 'f', 'd', 'f', 'd', 'da', 'b', 'c', 'd', 'e', 'e', 'f', 'd', 'f', 'd', 'da', 'b', 'c', 'd', 'e', 'e', 'f', 'd', 'f', 'd', 'da', 'b', 'c', 'd', 'e', 'e', 'f', 'd', 'f', 'd', 'da', 'b', 'c', 'd', 'e', 'e', 'f', 'd', 'f', 'd', 'da', 'b', 'c', 'd', 'e', 'e', 'f', 'd', 'f', 'd', 'da', 'b', 'c', 'd', 'e', 'e', 'f', 'd', 'f', 'd', 'da', 'b', 'c', 'd', 'e', 'e', 'f', 'd', 'f', 'd', 'da', 'b', 'c', 'd', 'e', 'e', 'f', 'd', 'f', 'd', 'da', 'b', 'c', 'd', 'e', 'e', 'f', 'd', 'f', 'd', 'da', 'b', 'c', 'd', 'e', 'e', 'f', 'd', 'f', 'd', 'da', 'b', 'c', 'd', 'e', 'e', 'f', 'd', 'f', 'd', 'da', 'b', 'c', 'd', 'e', 'e', 'f', 'd', 'f', 'd', 'da', 'b', 'c', 'd', 'e', 'e', 'f', 'd', 'f', 'd', 'da', 'b', 'c', 'd', 'e', 'e', 'f', 'd', 'f', 'd', 'da', 'b', 'c', 'd', 'e', 'e', 'f', 'd', 'f', 'd', 'da', 'b', 'c', 'd', 'e', 'e', 'f', 'd', 'f', 'd', 'da', 'b', 'c', 'd', 'e', 'e', 'f', 'd', 'f', 'd', 'da', 'b', 'c', 'd', 'e', 'e', 'f', 'd', 'f', 'd', 'da', 'b', 'c', 'd', 'e', 'e', 'f', 'd', 'f', 'd', 'da', 'b', 'c', 'd', 'e', 'e', 'f', 'd', 'f', 'd', 'da', 'b', 'c', 'd', 'e', 'e', 'f', 'd', 'f', 'd', 'da', 'b', 'c', 'd', 'e', 'e', 'f', 'd', 'f', 'd', 'da', 'b', 'c', 'd', 'e', 'e', 'f', 'd', 'f', 'd', 'da', 'b', 'c', 'd', 'e', 'e', 'f', 'd', 'f', 'd', 'da', 'b', 'c', 'd', 'e', 'e', 'f', 'd', 'f', 'd', 'da', 'b', 'c', 'd', 'e', 'e', 'f', 'd', 'f', 'd', 'da', 'b', 'c', 'd', 'e', 'e', 'f', 'd', 'f', 'd', 'da', 'b', 'c', 'd', 'e', 'e', 'f', 'd', 'f', 'd', 'da', 'b', 'c', 'd', 'e', 'e', 'f', 'd', 'f', 'd', 'da', 'b', 'c', 'd', 'e', 'e', 'f', 'd', 'f', 'd', 'da', 'b', 'c', 'd', 'e', 'e', 'f', 'd', 'f', 'd', 'da', 'b', 'c', 'd', 'e', 'e', 'f', 'd', 'f', 'd', 'da', 'b', 'c', 'd', 'e', 'e', 'f', 'd', 'f', 'd', 'da', 'b', 'c', 'd', 'e', 'e', 'f', 'd', 'f', 'd', 'da', 'b', 'c', 'd', 'e', 'e', 'f', 'd', 'f', 'd', 'da', 'b', 'c', 'd', 'e', 'e', 'f', 'd', 'f', 'd', 'da', 'b', 'c', 'd', 'e', 'e', 'f', 'd', 'f', 'd', 'da', 'b', 'c', 'd', 'e', 'e', 'f', 'd', 'f', 'd', 'da', 'b', 'c', 'd', 'e', 'e', 'f', 'd', 'f', 'd', 'da', 'b', 'c', 'd', 'e', 'e', 'f', 'd', 'f', 'd', 'da', 'b', 'c', 'd', 'e', 'e', 'f', 'd', 'f', 'd', 'da', 'b', 'c', 'd', 'e', 'e', 'f', 'd', 'f', 'd', 'da', 'b', 'c', 'd', 'e', 'e', 'f', 'd', 'f', 'd', 'da', 'b', 'c', 'd', 'e', 'e', 'f', 'd', 'f', 'd', 'da', 'b', 'c', 'd', 'e', 'e', 'f', 'd', 'f', 'd', 'da', 'b', 'c', 'd', 'e', 'e', 'f', 'd', 'f', 'd', 'da', 'b', 'c', 'd', 'e', 'e', 'f', 'd', 'f', 'd', 'da', 'b', 'c', 'd', 'e', 'e', 'f', 'd', 'f', 'd', 'da', 'b', 'c', 'd', 'e', 'e', 'f', 'd', 'f', 'd', 'da', 'b', 'c', 'd', 'e', 'e', 'f', 'd', 'f', 'd', 'da', 'b', 'c', 'd', 'e', 'e', 'f', 'd', 'f', 'd', 'da', 'b', 'c', 'd', 'e', 'e', 'f', 'd', 'f', 'd', 'da', 'b', 'c', 'd', 'e', 'e', 'f', 'd', 'f', 'd', 'da', 'b', 'c', 'd', 'e', 'e', 'f', 'd', 'f', 'd', 'da', 'b', 'c', 'd', 'e', 'e', 'f', 'd', 'f', 'd', 'da', 'b', 'c', 'd', 'e', 'e', 'f', 'd', 'f', 'd', 'da', 'b', 'c', 'd', 'e', 'e', 'f', 'd', 'f', 'd', 'da', 'b', 'c', 'd', 'e', 'e', 'f', 'd', 'f', 'd', 'da', 'b', 'c', 'd', 'e', 'e', 'f', 'd', 'f', 'd', 'da', 'b', 'c', 'd', 'e', 'e', 'f', 'd', 'f', 'd', 'da', 'b', 'c', 'd', 'e', 'e', 'f', 'd', 'f', 'd', 'da', 'b', 'c', 'd', 'e', 'e', 'f', 'd', 'f', 'd', 'da', 'b', 'c', 'd', 'e', 'e', 'f', 'd', 'f', 'd', 'da', 'b', 'c', 'd', 'e', 'e', 'f', 'd', 'f', 'd', 'da', 'b', 'c', 'd', 'e', 'e', 'f', 'd', 'f', 'd', 'da', 'b', 'c', 'd', 'e', 'e', 'f', 'd', 'f', 'd', 'da', 'b', 'c', 'd', 'e', 'e', 'f', 'd', 'f', 'd', 'da', 'b', 'c', 'd', 'e', 'e', 'f', 'd', 'f', 'd', 'da', 'b', 'c', 'd', 'e', 'e', 'f', 'd', 'f', 'd', 'da', 'b', 'c', 'd', 'e', 'e', 'f', 'd', 'f', 'd', 'da', 'b', 'c', 'd', 'e', 'e', 'f', 'd', 'f', 'd', 'da', 'b', 'c', 'd', 'e', 'e', 'f', 'd', 'f', 'd', 'da', 'b', 'c', 'd', 'e', 'e', 'f', 'd', 'f', 'd', 'da', 'b', 'c', 'd', 'e', 'e', 'f', 'd', 'f', 'd', 'da', 'b', 'c', 'd', 'e', 'e', 'f', 'd', 'f', 'd', 'da', 'b', 'c', 'd', 'e', 'e', 'f', 'd', 'f', 'd', 'da', 'b', 'c', 'd', 'e', 'e', 'f', 'd', 'f', 'd', 'da', 'b', 'c', 'd', 'e', 'e', 'f', 'd', 'f', 'd', 'da', 'b', 'c', 'd', 'e', 'e', 'f', 'd', 'f', 'd', 'da', 'b', 'c', 'd', 'e', 'e', 'f', 'd', 'f', 'd', 'da', 'b', 'c', 'd', 'e', 'e', 'f', 'd', 'f', 'd', 'da', 'b', 'c', 'd', 'e', 'e', 'f', 'd', 'f', 'd', 'da', 'b', 'c', 'd', 'e', 'e', 'f', 'd', 'f', 'd', 'da', 'b', 'c', 'd', 'e', 'e', 'f', 'd', 'f', 'd', 'da', 'b', 'c', 'd', 'e', 'e', 'f', 'd', 'f', 'd', 'd')\n"
          ]
        }
      ]
    },
    {
      "cell_type": "markdown",
      "metadata": {
        "id": "kQ95wPCRIshA"
      },
      "source": [
        "#**Magic variables**\n"
      ]
    },
    {
      "cell_type": "markdown",
      "metadata": {
        "id": "kRvz92shMCC-"
      },
      "source": [
        "They are usually used when making **function decorators** or **in monkey patching**"
      ]
    },
    {
      "cell_type": "code",
      "metadata": {
        "colab": {
          "base_uri": "https://localhost:8080/"
        },
        "id": "PDb576LiJuGn",
        "outputId": "9e335d85-a610-4a0c-9744-31c8d6ead37a"
      },
      "source": [
        "# *args\n",
        "def test_args(*args):\n",
        "  for arg in args:\n",
        "    print(arg)\n",
        "\n",
        "test_args(1, 2, 3, 4, 5)"
      ],
      "execution_count": null,
      "outputs": [
        {
          "output_type": "stream",
          "name": "stdout",
          "text": [
            "1\n",
            "2\n",
            "3\n",
            "4\n",
            "5\n"
          ]
        }
      ]
    },
    {
      "cell_type": "code",
      "metadata": {
        "colab": {
          "base_uri": "https://localhost:8080/"
        },
        "id": "r8ZTPh3cKJo9",
        "outputId": "a06fcfb7-250f-4978-f155-d68c682b40ea"
      },
      "source": [
        "# **kwargs (keyword args)\n",
        "def test_kwargs(**kwargs):\n",
        "  for key, val in kwargs.items():\n",
        "    print(key, val)\n",
        "\n",
        "test_kwargs(a = 1, b=2)\n",
        "dict_args = {'a': 1, 'b' : 2}\n",
        "test_kwargs(**dict_args)"
      ],
      "execution_count": null,
      "outputs": [
        {
          "output_type": "stream",
          "name": "stdout",
          "text": [
            "a 1\n",
            "b 2\n",
            "a 1\n",
            "b 2\n"
          ]
        }
      ]
    },
    {
      "cell_type": "markdown",
      "metadata": {
        "id": "tPr4Cha-Nh4n"
      },
      "source": [
        "#**Debugging**"
      ]
    },
    {
      "cell_type": "markdown",
      "metadata": {
        "id": "i2ug9jABOZAQ"
      },
      "source": [
        "Using `pdb.set_trace()` to set breakpoint\n",
        "Some useful command you can use to controll debugger:\n",
        "- `c`: continue execution\n",
        "- `w`: shows context\n",
        "- `a`: print arg list\n",
        "- `n`: debug next line "
      ]
    },
    {
      "cell_type": "code",
      "metadata": {
        "id": "A81MSozfNmEW"
      },
      "source": [
        "import pdb\n",
        "\n",
        "def make_bread():\n",
        "    pdb.set_trace()\n",
        "    print(\"1\")\n",
        "    print(\"2\")\n",
        "    return \"I don't have time\"\n",
        "\n",
        "print(make_bread())"
      ],
      "execution_count": null,
      "outputs": []
    },
    {
      "cell_type": "markdown",
      "metadata": {
        "id": "f9Z6RJG0-8U3"
      },
      "source": [
        "# **Comment in Python**"
      ]
    },
    {
      "cell_type": "markdown",
      "metadata": {
        "id": "drcu4CjCE3-w"
      },
      "source": [
        "## Doc string"
      ]
    },
    {
      "cell_type": "code",
      "metadata": {
        "id": "rWGfWU-X-_Fw"
      },
      "source": [
        "def merge(sent_1, sent_2):\n",
        "  \"\"\"\n",
        "  append 2nd sentence to 1st sentence\n",
        "\n",
        "  :param sent_1, sent_2\n",
        "    string\n",
        "  :returns string\n",
        "    string got by appending\n",
        "  \"\"\"\n",
        "  return sent_1 + sent_2\n",
        "\n",
        "# of course, you shouldn't write doc for such simple function like above"
      ],
      "execution_count": null,
      "outputs": []
    },
    {
      "cell_type": "markdown",
      "metadata": {
        "id": "SYgMhVOZE6Na"
      },
      "source": [
        "## Comment utilities in PyCharm & IntelliJ"
      ]
    },
    {
      "cell_type": "markdown",
      "metadata": {
        "id": "tK-zGiK9Goxj"
      },
      "source": [
        "\\# TODO: add exception handling\n",
        "\n",
        "Besides, you can use some unsupported tags like:\n",
        "\n",
        "\\# SEE: link references\n",
        "\n",
        "\\# NOTE: this has bug\n",
        "\n",
        "..."
      ]
    },
    {
      "cell_type": "markdown",
      "metadata": {
        "id": "bgX-DK_-as8-"
      },
      "source": [
        "# **Exception Handling**"
      ]
    },
    {
      "cell_type": "markdown",
      "metadata": {
        "id": "z4BR_wmPa5YO"
      },
      "source": [
        "The process of exception handling happens as follow:\n",
        "\n",
        "- First, python saves the state of execution at the moment the error occurs\n",
        "\n",
        "- Execute a piece of code known as exception handler\n",
        "\n",
        "- Continue normal flow with previously saved data"
      ]
    },
    {
      "cell_type": "markdown",
      "metadata": {
        "id": "wBqgCgl1cYUY"
      },
      "source": [
        "**TODO**: `try`...`except`...`else`...`finally`"
      ]
    },
    {
      "cell_type": "code",
      "metadata": {
        "colab": {
          "base_uri": "https://localhost:8080/",
          "height": 322
        },
        "id": "6Js8EHwlacWN",
        "outputId": "693398de-ee19-4c36-d914-d84450bec5ca"
      },
      "source": [
        "#use 'raise' to define custom error exception - simple\n",
        "def compute_age(birth_year, cur_year):\n",
        "  if (birth_year > cur_year):\n",
        "    raise ValueError(\"Current year should larger than birth year\")\n",
        "  return cur_year - birth_year\n",
        "\n",
        "compute_age(2021, 2008)"
      ],
      "execution_count": 4,
      "outputs": [
        {
          "output_type": "error",
          "ename": "ValueError",
          "evalue": "ignored",
          "traceback": [
            "\u001b[0;31m---------------------------------------------------------------------------\u001b[0m",
            "\u001b[0;31mValueError\u001b[0m                                Traceback (most recent call last)",
            "\u001b[0;32m<ipython-input-4-5192feed0658>\u001b[0m in \u001b[0;36m<module>\u001b[0;34m()\u001b[0m\n\u001b[1;32m      5\u001b[0m   \u001b[0;32mreturn\u001b[0m \u001b[0mcur_year\u001b[0m \u001b[0;34m-\u001b[0m \u001b[0mbirth_year\u001b[0m\u001b[0;34m\u001b[0m\u001b[0;34m\u001b[0m\u001b[0m\n\u001b[1;32m      6\u001b[0m \u001b[0;34m\u001b[0m\u001b[0m\n\u001b[0;32m----> 7\u001b[0;31m \u001b[0mcompute_age\u001b[0m\u001b[0;34m(\u001b[0m\u001b[0;36m2021\u001b[0m\u001b[0;34m,\u001b[0m \u001b[0;36m2008\u001b[0m\u001b[0;34m)\u001b[0m\u001b[0;34m\u001b[0m\u001b[0;34m\u001b[0m\u001b[0m\n\u001b[0m",
            "\u001b[0;32m<ipython-input-4-5192feed0658>\u001b[0m in \u001b[0;36mcompute_age\u001b[0;34m(birth_year, cur_year)\u001b[0m\n\u001b[1;32m      2\u001b[0m \u001b[0;32mdef\u001b[0m \u001b[0mcompute_age\u001b[0m\u001b[0;34m(\u001b[0m\u001b[0mbirth_year\u001b[0m\u001b[0;34m,\u001b[0m \u001b[0mcur_year\u001b[0m\u001b[0;34m)\u001b[0m\u001b[0;34m:\u001b[0m\u001b[0;34m\u001b[0m\u001b[0;34m\u001b[0m\u001b[0m\n\u001b[1;32m      3\u001b[0m   \u001b[0;32mif\u001b[0m \u001b[0;34m(\u001b[0m\u001b[0mbirth_year\u001b[0m \u001b[0;34m>\u001b[0m \u001b[0mcur_year\u001b[0m\u001b[0;34m)\u001b[0m\u001b[0;34m:\u001b[0m\u001b[0;34m\u001b[0m\u001b[0;34m\u001b[0m\u001b[0m\n\u001b[0;32m----> 4\u001b[0;31m     \u001b[0;32mraise\u001b[0m \u001b[0mValueError\u001b[0m\u001b[0;34m(\u001b[0m\u001b[0;34m\"Current year should larger than birth year\"\u001b[0m\u001b[0;34m)\u001b[0m\u001b[0;34m\u001b[0m\u001b[0;34m\u001b[0m\u001b[0m\n\u001b[0m\u001b[1;32m      5\u001b[0m   \u001b[0;32mreturn\u001b[0m \u001b[0mcur_year\u001b[0m \u001b[0;34m-\u001b[0m \u001b[0mbirth_year\u001b[0m\u001b[0;34m\u001b[0m\u001b[0;34m\u001b[0m\u001b[0m\n\u001b[1;32m      6\u001b[0m \u001b[0;34m\u001b[0m\u001b[0m\n",
            "\u001b[0;31mValueError\u001b[0m: Current year should larger than birth year"
          ]
        }
      ]
    },
    {
      "cell_type": "markdown",
      "metadata": {
        "id": "HnrF_qnVZwVr"
      },
      "source": [
        "You can use `assert <condition>` to indicate the condition that state must satisfy. If it satisfies, continue to execute the code. Else, raise `AssertionError` "
      ]
    },
    {
      "cell_type": "code",
      "metadata": {
        "id": "mFpueT1uaxFg",
        "colab": {
          "base_uri": "https://localhost:8080/",
          "height": 322
        },
        "outputId": "a5da4db5-d30e-4a4e-a92b-2bce7b18aea1"
      },
      "source": [
        "def compare_length(str1, str2):\n",
        "  assert len(str1) != len(str2)\n",
        "  return len(str1) > len(str2)\n",
        "\n",
        "compare_length(\"aa\", \"bb\")"
      ],
      "execution_count": 2,
      "outputs": [
        {
          "output_type": "error",
          "ename": "AssertionError",
          "evalue": "ignored",
          "traceback": [
            "\u001b[0;31m---------------------------------------------------------------------------\u001b[0m",
            "\u001b[0;31mAssertionError\u001b[0m                            Traceback (most recent call last)",
            "\u001b[0;32m<ipython-input-2-f3ed21f9491f>\u001b[0m in \u001b[0;36m<module>\u001b[0;34m()\u001b[0m\n\u001b[1;32m      3\u001b[0m   \u001b[0;32mreturn\u001b[0m \u001b[0mlen\u001b[0m\u001b[0;34m(\u001b[0m\u001b[0mstr1\u001b[0m\u001b[0;34m)\u001b[0m \u001b[0;34m>\u001b[0m \u001b[0mlen\u001b[0m\u001b[0;34m(\u001b[0m\u001b[0mstr2\u001b[0m\u001b[0;34m)\u001b[0m\u001b[0;34m\u001b[0m\u001b[0;34m\u001b[0m\u001b[0m\n\u001b[1;32m      4\u001b[0m \u001b[0;34m\u001b[0m\u001b[0m\n\u001b[0;32m----> 5\u001b[0;31m \u001b[0mcompare_length\u001b[0m\u001b[0;34m(\u001b[0m\u001b[0;34m\"aa\"\u001b[0m\u001b[0;34m,\u001b[0m \u001b[0;34m\"bb\"\u001b[0m\u001b[0;34m)\u001b[0m\u001b[0;34m\u001b[0m\u001b[0;34m\u001b[0m\u001b[0m\n\u001b[0m",
            "\u001b[0;32m<ipython-input-2-f3ed21f9491f>\u001b[0m in \u001b[0;36mcompare_length\u001b[0;34m(str1, str2)\u001b[0m\n\u001b[1;32m      1\u001b[0m \u001b[0;32mdef\u001b[0m \u001b[0mcompare_length\u001b[0m\u001b[0;34m(\u001b[0m\u001b[0mstr1\u001b[0m\u001b[0;34m,\u001b[0m \u001b[0mstr2\u001b[0m\u001b[0;34m)\u001b[0m\u001b[0;34m:\u001b[0m\u001b[0;34m\u001b[0m\u001b[0;34m\u001b[0m\u001b[0m\n\u001b[0;32m----> 2\u001b[0;31m   \u001b[0;32massert\u001b[0m \u001b[0mlen\u001b[0m\u001b[0;34m(\u001b[0m\u001b[0mstr1\u001b[0m\u001b[0;34m)\u001b[0m \u001b[0;34m!=\u001b[0m \u001b[0mlen\u001b[0m\u001b[0;34m(\u001b[0m\u001b[0mstr2\u001b[0m\u001b[0;34m)\u001b[0m\u001b[0;34m\u001b[0m\u001b[0;34m\u001b[0m\u001b[0m\n\u001b[0m\u001b[1;32m      3\u001b[0m   \u001b[0;32mreturn\u001b[0m \u001b[0mlen\u001b[0m\u001b[0;34m(\u001b[0m\u001b[0mstr1\u001b[0m\u001b[0;34m)\u001b[0m \u001b[0;34m>\u001b[0m \u001b[0mlen\u001b[0m\u001b[0;34m(\u001b[0m\u001b[0mstr2\u001b[0m\u001b[0;34m)\u001b[0m\u001b[0;34m\u001b[0m\u001b[0;34m\u001b[0m\u001b[0m\n\u001b[1;32m      4\u001b[0m \u001b[0;34m\u001b[0m\u001b[0m\n\u001b[1;32m      5\u001b[0m \u001b[0mcompare_length\u001b[0m\u001b[0;34m(\u001b[0m\u001b[0;34m\"aa\"\u001b[0m\u001b[0;34m,\u001b[0m \u001b[0;34m\"bb\"\u001b[0m\u001b[0;34m)\u001b[0m\u001b[0;34m\u001b[0m\u001b[0;34m\u001b[0m\u001b[0m\n",
            "\u001b[0;31mAssertionError\u001b[0m: "
          ]
        }
      ]
    },
    {
      "cell_type": "markdown",
      "metadata": {
        "id": "uNVL5BUcfMHm"
      },
      "source": [
        "#**Tips**\n",
        "1. Advoid using `global` keyword\n",
        "2. Should use `__slots__` in the class that will be instanciated a lot of times (i.e hundreds, thousands)\n",
        "Detail: https://stackoverflow.com/questions/472000/usage-of-slots "
      ]
    }
  ]
}